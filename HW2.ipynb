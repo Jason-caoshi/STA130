{
 "cells": [
  {
   "cell_type": "code",
   "execution_count": 1,
   "id": "60215175",
   "metadata": {},
   "outputs": [
    {
     "name": "stdout",
     "output_type": "stream",
     "text": [
      "0.66813\n"
     ]
    }
   ],
   "source": [
    "''' imports numpy '''\n",
    "import numpy as np\n",
    "\n",
    "'''ChatGPT came up with a code that makes the simulation a function which the user can input the abmount of times they want to \n",
    " run the experiments for. Which is easier than looking for the reps value in the code and changing it. '''\n",
    "def monty_hall_simulation(reps): # the function takes in how many time the user wants to run the experiment for\n",
    "    \n",
    "    door_options = [1, 2, 3] # similar to how professor Schwartz set up his code, chatGPT creats a list of all the doors\n",
    "    wins = 0 # counts how many times the player would win by switching doors\n",
    "\n",
    "    for _ in range(reps): # runs the experiment for \"reps\" times\n",
    "        \n",
    "        prize_door = np.random.choice(door_options) # random's selectc a door as the winning door\n",
    "        \n",
    "        initial_choice = 1 # starts the experiment by assuming the player chooses door 1\n",
    "                            # it does not matter which door the player picks since the chances are evenly distributed\n",
    "        \n",
    "        possible_goat_doors = [] #creates a list for all the possible door that can be revealed by Monte Hall\n",
    "        for door in door_options: # loops for all the doors\n",
    "            if door != initial_choice and door != prize_door: # if the door is not the players choice or the winning door\n",
    "                possible_goat_doors.append(door) # the door is added to the list of door that can be revealed\n",
    "        \n",
    "        revealed_goat_door = np.random.choice(possible_goat_doors) # Monte Hall randomly \"reveals\" one of the goat doors\n",
    "        \n",
    "        remaining_door = None # figuring out which door remains after Monte Hall reveals one of the goat door\n",
    "        for door in door_options: # Loops for all the doors\n",
    "            if door != initial_choice and door != revealed_goat_door: # if the door is not the player's choice nor its open\n",
    "                remaining_door = door # the door is added to the list of remaining doors\n",
    "        \n",
    "        # Player switches to the remaining door\n",
    "        final_choice = remaining_door\n",
    "\n",
    "        # Check if the final choice is the prize door\n",
    "        if final_choice == prize_door:\n",
    "            wins += 1\n",
    "\n",
    "    # Calculate the proportion of wins\n",
    "    return wins / reps\n",
    "\n",
    "# Run the simulation with 100,000 iterations and print the result\n",
    "print(monty_hall_simulation(100000))"
   ]
  },
  {
   "cell_type": "markdown",
   "id": "2a42ed34",
   "metadata": {},
   "source": [
    "# 3 \n",
    "\n",
    "ChatGPT summary and link: \n",
    "In this chat, you provided a Monty Hall simulation code and asked for an explanation. I broke down the logic of the original code, explaining key steps such as choosing a prize door, revealing a goat door, and switching doors. You also asked about the function of .append() and how the code behaves when the player's initial choice is the winning door.\n",
    "\n",
    "Later, you requested a simpler, more readable version of the code. I refactored it for clarity by adding comments, using descriptive variable names, and streamlining the logic. You then asked for the code to be structured using loops and if-else statements instead of list comprehensions, which I provided to match your preference for better readability.\n",
    "\n",
    "Finally, I gave a revised version of the code, removing list comprehensions and replacing them with explicit loops and conditionals.\n",
    "https://chatgpt.com/share/66eb4653-1e78-8010-89eb-6f7573c208ba"
   ]
  },
  {
   "cell_type": "code",
   "execution_count": null,
   "id": "08696074",
   "metadata": {},
   "outputs": [],
   "source": [
    "# Markov Chains and Text Generation\n",
    "from IPython.display import YouTubeVideo\n",
    "YouTubeVideo('56mGTszb_iM', width = 550)"
   ]
  },
  {
   "cell_type": "markdown",
   "id": "800c3114",
   "metadata": {},
   "source": [
    "# 6\n",
    "\n",
    "ChatGPT was able to very quickly help me understand the codes, it was able to break the code down to 1 to 2 lines sections and go through them one by one, giving reason and details about the function, variable and structure used in the codes. It also provided simple exmaples of what the code does and usually ends the explaintion with a summary of some sort. And with further instructions, ChatGPT was able narrow to just a single function or line and provide very insightful explainations. \n",
    "Overall, ChatGPT has been a great tool/reasources for this class, and I find it much more accessible than other/human when it comes to questions. \n",
    "\n",
    "# ChatGPT summary/links\n",
    "\n",
    "Initial Code Analysis:\n",
    "\n",
    "You shared a basic Markovian chatbot code that tracks word frequencies and transitions to generate text based on word sequences.\n",
    "I explained how the code builds a model using word_used to count individual words and next_word to track which words follow others.\n",
    "Extension #1:\n",
    "\n",
    "You introduced an extension that tracks bigrams (pairs of consecutive words) instead of single words.\n",
    "I explained how this extension updates counts for bigrams and the words that follow them, providing a more context-aware text generation model.\n",
    "Extension #2:\n",
    "\n",
    "This extension involves character-specific data from a dataset. It tracks word pairs and their following words separately for each character.\n",
    "I detailed how this extension uses nested dictionaries to handle multiple levels of context, associating word sequences with specific characters.\n",
    "Comments on the Code:\n",
    "\n",
    "I provided commented versions of the code to explain its functionality and purpose in detail.\n",
    "Space Replacement Explanation:\n",
    "\n",
    "You asked about replacing spaces with periods in character names. I clarified that this transformation ensures consistent formatting and avoids ambiguity in data processing.\n",
    "https://chatgpt.com/share/66eb4549-9670-8010-ad7d-b07ecf7c5bfc"
   ]
  },
  {
   "cell_type": "markdown",
   "id": "8ba1230a",
   "metadata": {},
   "source": [
    "# 7 \n",
    "\n",
    "Initially after looking through the course webpage, I was both skeptical and worried about the course's rely on AI/Chatbots, since I never really used it to do anything serious and most other courses I have taken/taking right now discourge the use of AI to do the work for us. But after using it for these few weeks, I found the use of AI/Chatbot very helpful in terms of getting answers for very specific question. I was able to use ChatGpt to learn to code and apply it in terms of data science. The use of AI has taken a lot of \"work\" out of statistics since the goal is not to code but to analyse the data. I believe with the recent development of AI, coding, statistics and data science are more accessible than ever. "
   ]
  },
  {
   "cell_type": "markdown",
   "id": "b3218728",
   "metadata": {},
   "source": [
    "# NOTE\n",
    "\n",
    "JupyterHUB did not save my homework for some reason so this is actually redo of my homework hence only the graded question :(\n"
   ]
  }
 ],
 "metadata": {
  "kernelspec": {
   "display_name": "Python 3 (ipykernel)",
   "language": "python",
   "name": "python3"
  },
  "language_info": {
   "codemirror_mode": {
    "name": "ipython",
    "version": 3
   },
   "file_extension": ".py",
   "mimetype": "text/x-python",
   "name": "python",
   "nbconvert_exporter": "python",
   "pygments_lexer": "ipython3",
   "version": "3.11.6"
  }
 },
 "nbformat": 4,
 "nbformat_minor": 5
}
