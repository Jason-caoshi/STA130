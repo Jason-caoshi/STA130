{
 "cells": [
  {
   "cell_type": "markdown",
   "id": "b2c791ea",
   "metadata": {},
   "source": [
    "Final project partners: Andre Sanchez, Petru Codrescu\n",
    "\n",
    "Analysis #1 \n",
    "\n",
    "Research question: \n",
    "\n",
    "Does the frequency of long-range communication (e.g., phone, text, video call) reduce feelings of loneliness?\n",
    "\n",
    "Hypothesis:\n",
    "There is an inverse relationship between the frequency of long-range communication and loneliness, with higher communication frequency associated with lower loneliness.\n",
    "\n",
    "I plan on comparing the frequency of long-range communication (such as CONNECTION_activities_letter_or_email_p3m, CONNECTION_activities_phone_p3m, CONNECTION_activities_text_or_messaged_p3m, \n",
    "CONNECTION_activities_video_chat_p3m, CONNECTION_activities_group_video_chat_p3m\n",
    ") with how lonely people felt on a weekly basis (LONELY_direct)\n",
    "Since all the data I plan on exploring are ordinal, I can create box plots or violin plots to show the distribution of how lonely people felt with respect to how frequently they communicated with others via the method mentioned above. I plan on using bootstrapping to estimate the population mean loneliness score across different communication frequencies. And then fit a linear regression model on the bootstrapped means. If the fitted linear model has a negative slope, then it would support my hypothesis. \n",
    "\n",
    "\n",
    "\n",
    "Analysis #2\n",
    "\n",
    "Research question:\n",
    "How does the frequency of group exercise relate to various aspects of well-being, such as burnout symptoms and sleep quality?\n",
    "\n",
    "Hypothesis: I hypothesise that more frequent group exercise is associated with improved well-being, including lower burnout and better sleep quality. I will test this against a null hypothesis that exercise frequency has no correlation with well-being.\n",
    "\n",
    "In my research, I will be exploring the correlation between people’s wellness and their exercise frequencies.\n",
    " The variables i will be focusing on are “wellness_malach_pines_burnout_measure_tired/disappointed/hopeless/trapped/helpless/sick/depresse/.worthless/difficultly_sleeping/had_it” and “CONNECTION_activities_group_exercise_p3m”\n",
    "Since these are all ordinal data of frequencies, I plan on assigning numerical values from least to most frequent and create box plots or violin plots for each group exercise frequency. \n",
    "For each wellness factor, I plan on creating a fitted linear regression with the exercise frequency as the x axis and wellness be the y-axis. If I could gather enough evidence against this null-hypothesis, I can show that group exercise frequency do have an impact on well-being. \n",
    "\n",
    "\n",
    "Research question 3:\n",
    "Impact of COVID-19 on Loneliness Levels\n",
    "\n",
    "Hypothesis\n",
    "I hypothesise that on average, loneliness levels increased significantly during COVID-19 \n",
    "\n",
    "In this research, I will be focusing on the difference in intensity of loneliness of people pre and post COVID. The variable I will explore is LONELY_change_pre_covid. I plan on creating a bar graph to visualise this data since it is ordinal. To analyse this data, I would assign numerical value to the ordinal data, such that a negative value implies less lonely after covid and positive value implies more lonely after covid (0 would be no changes)  I plan on bootstrapping this sample data to create a confidence interval for the population mean. If the confidence interval lies above 0 then I can confidently say that my hypothesis is true. \n"
   ]
  },
  {
   "cell_type": "code",
   "execution_count": null,
   "id": "ee709824",
   "metadata": {},
   "outputs": [],
   "source": []
  }
 ],
 "metadata": {
  "kernelspec": {
   "display_name": "Python 3 (ipykernel)",
   "language": "python",
   "name": "python3"
  },
  "language_info": {
   "codemirror_mode": {
    "name": "ipython",
    "version": 3
   },
   "file_extension": ".py",
   "mimetype": "text/x-python",
   "name": "python",
   "nbconvert_exporter": "python",
   "pygments_lexer": "ipython3",
   "version": "3.11.6"
  }
 },
 "nbformat": 4,
 "nbformat_minor": 5
}
